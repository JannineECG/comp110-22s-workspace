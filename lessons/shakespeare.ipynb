{
 "cells": [
  {
   "cell_type": "markdown",
   "metadata": {},
   "source": [
    "# Processing Shakespeare\n",
    "\n",
    "Counting all the letters in shakespeares' works!\n",
    "\n",
    "First step is to read each line of the text file into a list of strings."
   ]
  },
  {
   "cell_type": "code",
   "execution_count": null,
   "metadata": {},
   "outputs": [],
   "source": [
    "from io import TextIOWrapper\n",
    "\n",
    "def read_lines(filename: str) ->list[str]:\n",
    "    \"\"\"Read a text file into a list of strings for each line.\"\"\"\n",
    "    lines: list[str] = []\n",
    "    file_handle: TextIOWrapper = open(filename, \"r\")\n",
    "    for line in file_handle: \n",
    "        line = line.strip()\n",
    "        line = line.lower()\n",
    "        lines.append(line)\n",
    "    return lines\n",
    "\n",
    "shakespeares_lines: list[str] = read_lines(\"./shakespeare.txt\")\n",
    "print(len(shakespeares_lines))\n",
    "\n"
   ]
  },
  {
   "cell_type": "code",
   "execution_count": null,
   "metadata": {},
   "outputs": [],
   "source": [
    "# Example of \"Slice Notation\"\n",
    "\n",
    "print(shakespeares_lines[0:5])"
   ]
  },
  {
   "cell_type": "markdown",
   "metadata": {},
   "source": [
    "The next step of our analysis is to count all of letters in Shakespeare's complete body of work."
   ]
  },
  {
   "cell_type": "code",
   "execution_count": null,
   "metadata": {},
   "outputs": [],
   "source": [
    "\n",
    "def tally(counts: dict[str, int], key:str) -> None:\n",
    "    \"\"\"Mutate counts by incrementing value stored at key by 1.\"\"\"\n",
    "    if key in counts:\n",
    "        counts[key] += 1\n",
    "    else:\n",
    "        counts[key] = 1\n",
    "    \n",
    "def count_letters(lines: list[str]) -> dict[str, int]:\n",
    "    \"\"\"Count the frequency of all letters in a list of strings.\"\"\"\n",
    "    counts: dict[str, int] = {} \n",
    "    for line in lines:\n",
    "        for char in lines:\n",
    "            if char.isalpha():\n",
    "                tally(counts, char)\n",
    "    return counts\n",
    "\n",
    "shakespeares_counts: dict[str ,int] = (count_letters(shakespeares_lines))\n",
    "print(shakespeares_counts)"
   ]
  },
  {
   "cell_type": "markdown",
   "metadata": {},
   "source": [
    "Visualize with a bar chart this data about character frequencies."
   ]
  },
  {
   "cell_type": "code",
   "execution_count": null,
   "metadata": {},
   "outputs": [],
   "source": [
    "from matplotlib import pyplot\n",
    "\n",
    "shalespeares_counts = dict(sorted(shakespeares_counts.items()))\n",
    "pyplot.title(\"Frequencies of letters in Shakespeare\")\n",
    "pyplot.xlabel(\"Letters\")\n",
    "pyplot.ylabel(\"Counts\")\n",
    "labels: list[str] = list(shakespeares_counts.keys())\n",
    "values: list[int] = list(shakespeares_counts.values())\n",
    "pyplot.bar(labels, values)"
   ]
  },
  {
   "cell_type": "code",
   "execution_count": 8,
   "metadata": {},
   "outputs": [
    {
     "data": {
      "text/plain": [
       "{'spring': 110, 'break': 100000}"
      ]
     },
     "execution_count": 8,
     "metadata": {},
     "output_type": "execute_result"
    }
   ],
   "source": [
    "example_tuples: list[tuple[str, int]] = [\n",
    "    ('spring', 110),\n",
    "    ('break', 100000)\n",
    "]\n",
    "\n",
    "dict_from_tuples: dict[str, int] = dict(example_tuples)\n",
    "dict_from_tuples"
   ]
  }
 ],
 "metadata": {
  "interpreter": {
   "hash": "aee8b7b246df8f9039afb4144a1f6fd8d2ca17a180786b69acc140d282b71a49"
  },
  "kernelspec": {
   "display_name": "Python 3.10.1 64-bit",
   "language": "python",
   "name": "python3"
  },
  "language_info": {
   "codemirror_mode": {
    "name": "ipython",
    "version": 3
   },
   "file_extension": ".py",
   "mimetype": "text/x-python",
   "name": "python",
   "nbconvert_exporter": "python",
   "pygments_lexer": "ipython3",
   "version": "3.10.1"
  },
  "orig_nbformat": 4
 },
 "nbformat": 4,
 "nbformat_minor": 2
}
